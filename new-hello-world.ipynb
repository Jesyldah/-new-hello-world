Revision
I do not even remeber what Git and Atom were all about
I should be studying MORE
